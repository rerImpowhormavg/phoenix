{
 "cells": [
  {
   "cell_type": "code",
   "execution_count": 3,
   "metadata": {},
   "outputs": [],
   "source": [
    "import pandas as pd\n",
    "from sklearn import datasets\n",
    "from arize_toolbox.widgets.umapWidget import UMAPWidget\n"
   ]
  },
  {
   "cell_type": "code",
   "execution_count": 5,
   "metadata": {},
   "outputs": [
    {
     "name": "stdout",
     "output_type": "stream",
     "text": [
      "hello world from widget\n"
     ]
    },
    {
     "ename": "TypeError",
     "evalue": "'method' object is not subscriptable",
     "output_type": "error",
     "traceback": [
      "\u001b[0;31m---------------------------------------------------------------------------\u001b[0m",
      "\u001b[0;31mTypeError\u001b[0m                                 Traceback (most recent call last)",
      "Cell \u001b[0;32mIn [5], line 2\u001b[0m\n\u001b[1;32m      1\u001b[0m widget \u001b[39m=\u001b[39m UMAPWidget()\n\u001b[0;32m----> 2\u001b[0m widget\u001b[39m.\u001b[39;49mshow();\n",
      "File \u001b[0;32m~/work/mlops-notebook/.venv/lib/python3.9/site-packages/arize_toolbox/widgets/umapWidget.py:12\u001b[0m, in \u001b[0;36mUMAPWidget.show\u001b[0;34m(self)\u001b[0m\n\u001b[1;32m     11\u001b[0m \u001b[39mdef\u001b[39;00m \u001b[39mshow\u001b[39m(\u001b[39mself\u001b[39m):\n\u001b[0;32m---> 12\u001b[0m     display(HTML(\u001b[39mself\u001b[39;49m\u001b[39m.\u001b[39;49mtemplate))\n",
      "File \u001b[0;32m~/work/mlops-notebook/.venv/lib/python3.9/site-packages/IPython/core/display.py:430\u001b[0m, in \u001b[0;36mHTML.__init__\u001b[0;34m(self, data, url, filename, metadata)\u001b[0m\n\u001b[1;32m    427\u001b[0m     suffix \u001b[39m=\u001b[39m data[\u001b[39m-\u001b[39m\u001b[39m10\u001b[39m:]\u001b[39m.\u001b[39mlower()\n\u001b[1;32m    428\u001b[0m     \u001b[39mreturn\u001b[39;00m prefix\u001b[39m.\u001b[39mstartswith(\u001b[39m\"\u001b[39m\u001b[39m<iframe \u001b[39m\u001b[39m\"\u001b[39m) \u001b[39mand\u001b[39;00m suffix\u001b[39m.\u001b[39mendswith(\u001b[39m\"\u001b[39m\u001b[39m</iframe>\u001b[39m\u001b[39m\"\u001b[39m)\n\u001b[0;32m--> 430\u001b[0m \u001b[39mif\u001b[39;00m warn():\n\u001b[1;32m    431\u001b[0m     warnings\u001b[39m.\u001b[39mwarn(\u001b[39m\"\u001b[39m\u001b[39mConsider using IPython.display.IFrame instead\u001b[39m\u001b[39m\"\u001b[39m)\n\u001b[1;32m    432\u001b[0m \u001b[39msuper\u001b[39m(HTML, \u001b[39mself\u001b[39m)\u001b[39m.\u001b[39m\u001b[39m__init__\u001b[39m(data\u001b[39m=\u001b[39mdata, url\u001b[39m=\u001b[39murl, filename\u001b[39m=\u001b[39mfilename, metadata\u001b[39m=\u001b[39mmetadata)\n",
      "File \u001b[0;32m~/work/mlops-notebook/.venv/lib/python3.9/site-packages/IPython/core/display.py:426\u001b[0m, in \u001b[0;36mHTML.__init__.<locals>.warn\u001b[0;34m()\u001b[0m\n\u001b[1;32m    420\u001b[0m     \u001b[39mreturn\u001b[39;00m \u001b[39mFalse\u001b[39;00m\n\u001b[1;32m    422\u001b[0m \u001b[39m#\u001b[39;00m\n\u001b[1;32m    423\u001b[0m \u001b[39m# Avoid calling lower() on the entire data, because it could be a\u001b[39;00m\n\u001b[1;32m    424\u001b[0m \u001b[39m# long string and we're only interested in its beginning and end.\u001b[39;00m\n\u001b[1;32m    425\u001b[0m \u001b[39m#\u001b[39;00m\n\u001b[0;32m--> 426\u001b[0m prefix \u001b[39m=\u001b[39m data[:\u001b[39m10\u001b[39;49m]\u001b[39m.\u001b[39mlower()\n\u001b[1;32m    427\u001b[0m suffix \u001b[39m=\u001b[39m data[\u001b[39m-\u001b[39m\u001b[39m10\u001b[39m:]\u001b[39m.\u001b[39mlower()\n\u001b[1;32m    428\u001b[0m \u001b[39mreturn\u001b[39;00m prefix\u001b[39m.\u001b[39mstartswith(\u001b[39m\"\u001b[39m\u001b[39m<iframe \u001b[39m\u001b[39m\"\u001b[39m) \u001b[39mand\u001b[39;00m suffix\u001b[39m.\u001b[39mendswith(\u001b[39m\"\u001b[39m\u001b[39m</iframe>\u001b[39m\u001b[39m\"\u001b[39m)\n",
      "\u001b[0;31mTypeError\u001b[0m: 'method' object is not subscriptable"
     ]
    }
   ],
   "source": [
    "widget = UMAPWidget()\n",
    "widget.show();"
   ]
  }
 ],
 "metadata": {
  "kernelspec": {
   "display_name": "Python 3.9.6 ('.venv': venv)",
   "language": "python",
   "name": "python3"
  },
  "language_info": {
   "codemirror_mode": {
    "name": "ipython",
    "version": 3
   },
   "file_extension": ".py",
   "mimetype": "text/x-python",
   "name": "python",
   "nbconvert_exporter": "python",
   "pygments_lexer": "ipython3",
   "version": "3.9.6"
  },
  "orig_nbformat": 4,
  "vscode": {
   "interpreter": {
    "hash": "7099b6e9739ac77c977a434a0b803c0e83193b815ee5b7191471b98fe77861fc"
   }
  }
 },
 "nbformat": 4,
 "nbformat_minor": 2
}
