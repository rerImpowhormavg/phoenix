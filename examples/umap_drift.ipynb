{
 "cells": [
  {
   "cell_type": "code",
   "execution_count": 1,
   "metadata": {},
   "outputs": [],
   "source": [
    "import pandas as pd\n",
    "from sklearn import datasets\n",
    "from arize_toolbox.widgets.umapWidget import UMAPWidget\n"
   ]
  },
  {
   "cell_type": "code",
   "execution_count": 2,
   "metadata": {},
   "outputs": [
    {
     "ename": "FileNotFoundError",
     "evalue": "[Errno 2] No such file or directory: '/Users/mikeldking/.virtualenvs/notebook/lib/python3.10/site-packages/arize_toolbox/nbextension/static/index.js'",
     "output_type": "error",
     "traceback": [
      "\u001b[0;31m---------------------------------------------------------------------------\u001b[0m",
      "\u001b[0;31mFileNotFoundError\u001b[0m                         Traceback (most recent call last)",
      "Cell \u001b[0;32mIn [2], line 2\u001b[0m\n\u001b[1;32m      1\u001b[0m widget \u001b[39m=\u001b[39m UMAPWidget()\n\u001b[0;32m----> 2\u001b[0m widget\u001b[39m.\u001b[39;49mshow()\n",
      "File \u001b[0;32m~/.virtualenvs/notebook/lib/python3.10/site-packages/arize_toolbox/widgets/umapWidget.py:21\u001b[0m, in \u001b[0;36mUMAPWidget.show\u001b[0;34m(self)\u001b[0m\n\u001b[1;32m     20\u001b[0m \u001b[39mdef\u001b[39;00m \u001b[39mshow\u001b[39m(\u001b[39mself\u001b[39m):\n\u001b[0;32m---> 21\u001b[0m     display(HTML(\u001b[39mself\u001b[39;49m\u001b[39m.\u001b[39;49mtemplate()))\n",
      "File \u001b[0;32m~/.virtualenvs/notebook/lib/python3.10/site-packages/arize_toolbox/widgets/umapWidget.py:18\u001b[0m, in \u001b[0;36mUMAPWidget.template\u001b[0;34m(self)\u001b[0m\n\u001b[1;32m     16\u001b[0m \u001b[39mdef\u001b[39;00m \u001b[39mtemplate\u001b[39m(\u001b[39mself\u001b[39m):\n\u001b[1;32m     17\u001b[0m     \u001b[39mreturn\u001b[39;00m \u001b[39mf\u001b[39m\u001b[39m\"\"\"\u001b[39m\n\u001b[0;32m---> 18\u001b[0m \u001b[39m    <html><script>\u001b[39m\u001b[39m{\u001b[39;00mloadJS()\u001b[39m}\u001b[39;00m\u001b[39m</script><body><div id=\u001b[39m\u001b[39m'\u001b[39m\u001b[39mroot\u001b[39m\u001b[39m'\u001b[39m\u001b[39m></div></body><script>window.renderWidget();</script></html>\u001b[39m\u001b[39m\"\"\"\u001b[39m\n",
      "File \u001b[0;32m~/.virtualenvs/notebook/lib/python3.10/site-packages/arize_toolbox/widgets/umapWidget.py:12\u001b[0m, in \u001b[0;36mloadJS\u001b[0;34m()\u001b[0m\n\u001b[1;32m     11\u001b[0m \u001b[39mdef\u001b[39;00m \u001b[39mloadJS\u001b[39m():\n\u001b[0;32m---> 12\u001b[0m     \u001b[39mreturn\u001b[39;00m \u001b[39mopen\u001b[39;49m(os\u001b[39m.\u001b[39;49mpath\u001b[39m.\u001b[39;49mjoin(STATIC_PATH, \u001b[39m\"\u001b[39;49m\u001b[39mindex.js\u001b[39;49m\u001b[39m\"\u001b[39;49m), encoding\u001b[39m=\u001b[39;49m\u001b[39m\"\u001b[39;49m\u001b[39mutf-8\u001b[39;49m\u001b[39m\"\u001b[39;49m)\u001b[39m.\u001b[39mread()\n",
      "\u001b[0;31mFileNotFoundError\u001b[0m: [Errno 2] No such file or directory: '/Users/mikeldking/.virtualenvs/notebook/lib/python3.10/site-packages/arize_toolbox/nbextension/static/index.js'"
     ]
    }
   ],
   "source": [
    "widget = UMAPWidget()\n",
    "widget.show()\n"
   ]
  },
  {
   "cell_type": "code",
   "execution_count": null,
   "metadata": {
    "vscode": {
     "languageId": "javascript"
    }
   },
   "outputs": [],
   "source": [
    "print(widget.template())"
   ]
  }
 ],
 "metadata": {
  "kernelspec": {
   "display_name": "Python 3.10.3 ('notebook')",
   "language": "python",
   "name": "python3"
  },
  "language_info": {
   "codemirror_mode": {
    "name": "ipython",
    "version": 3
   },
   "file_extension": ".py",
   "mimetype": "text/x-python",
   "name": "python",
   "nbconvert_exporter": "python",
   "pygments_lexer": "ipython3",
   "version": "3.10.3"
  },
  "orig_nbformat": 4,
  "vscode": {
   "interpreter": {
    "hash": "f8476af36f82f278d0224c299b3c84ccca1fb7344702eda80d935d8f2c34d234"
   }
  }
 },
 "nbformat": 4,
 "nbformat_minor": 2
}
